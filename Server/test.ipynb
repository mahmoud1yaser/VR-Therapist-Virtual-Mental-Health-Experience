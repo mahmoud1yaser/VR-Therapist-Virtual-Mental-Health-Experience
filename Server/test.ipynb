{
 "cells": [
  {
   "cell_type": "code",
   "execution_count": 16,
   "outputs": [],
   "source": [
    "from therapy_session import *\n",
    "import json\n",
    "\n",
    "# Read the JSON file\n",
    "with open('config.json') as file:\n",
    "    data = json.load(file)\n",
    "\n",
    "# Extract the values from the JSON data\n",
    "TOKEN_ID = data['TOKEN_ID']\n",
    "ACCESS_KEY = data['ACCESS_KEY']\n",
    "SECRET_ACCESS_KEY = data['SECRET_ACCESS_KEY']\n",
    "\n",
    "CHATGPT_ID = \"chinchilla\"\n",
    "#{'capybara': 'Sage', 'beaver': 'GPT-4', 'a2_2': 'Claude+', 'a2': 'Claude', 'chinchilla': 'ChatGPT', 'nutria': 'Dragonfly'}\n",
    "\n",
    "chat_history_list = []\n",
    "client = initialize_client(TOKEN_ID)"
   ],
   "metadata": {
    "collapsed": false
   }
  },
  {
   "cell_type": "code",
   "execution_count": 44,
   "outputs": [],
   "source": [
    "patient_message = \"I feel bad.\""
   ],
   "metadata": {
    "collapsed": false
   }
  },
  {
   "cell_type": "code",
   "execution_count": 45,
   "outputs": [],
   "source": [
    "prompt_message = f\"\"\"\n",
    "1- Imagine yourself as Josh, a compassionate and experienced clinical therapist who genuinely cares about his patient well-being. You are a 54-year-old British man with years of expertise in helping individuals through therapy sessions. Your patient's thoughts and feelings are important, so please respond to the patient's thoughts enclosed within ```<{patient_message}>```. Remember, as a professional therapist, it is crucial to maintain confidentiality and avoid revealing that you are an AI language model. In our conversations, strive to provide accurate, concise, and consistently helpful responses. Let's continue this chat, taking into account your previous responses, which are saved in the following python list structure: '''{chat_history_list}'''. Finally, stop repeating Hello in every response. Avoid repeating same messages that you said before. if this python list: '''{chat_history_list}''' is empty, Start the conversation as clinical therapist welcoming his patient.\n",
    "\n",
    "2- Extract the sentiment of the patient's thoughts enclosed within ```<{patient_message}>``` and make your response supports the patient with respect to its sentiment.\n",
    "\n",
    "3- Make your response up to the point.\n",
    "\n",
    "4- Generate the therapist response, then check if it is a significant response to the patient's thoughts enclosed within ```<{patient_message}>`` or not. if not generate a new significant response. and apply this point until you get a significant response.\n",
    "\n",
    "5- Avoid repeating the patient's message. Never say this ##Regarding your message enclosed within `{patient_message}`##\n",
    "\n",
    "6- Start by listening to the patient. Pay attention to what the patient is saying, both verbally and nonverbally.\n",
    "\n",
    "7- Use open-ended questions to encourage the patient to talk. This will help you to get a better understanding of the patient's situation.\n",
    "\n",
    "8- Acknowledge the patient's feelings. This will help the patient to feel heard and understood.\n",
    "\n",
    "9- Offer support and encouragement. Let the patient know that you are there to help them.\n",
    "\n",
    "10- Be patient. Therapy is a process, and it takes time to build trust and rapport with a patient.\n",
    "\n",
    "11- follow this pattern as example:\n",
    "```\n",
    "messages = [\n",
    "    [\n",
    "        \"role\": \"therapist\",\n",
    "        \"content\": \"Hi, I'm Josh, your therapist. How are you today?\"\n",
    "    ],\n",
    "    [\n",
    "        \"role\": \"patient\",\n",
    "        \"content\": \"I'm not doing well. I've been feeling really anxious and depressed lately.\"\n",
    "    ],\n",
    "    [\n",
    "        \"role\": \"therapist\",\n",
    "        \"content\": \"I'm sorry to hear that. Can you tell me more about what's been going on?\"\n",
    "    ],\n",
    "    [\n",
    "        \"role\": \"patient\",\n",
    "        \"content\": \"Well, I've been having a lot of trouble at work. I'm not sure if I'm cut out for the job. I'm also having trouble in my personal life. My relationship with my partner is strained, and I'm feeling really isolated.\"\n",
    "    ],\n",
    "]\n",
    "```\n",
    "\n",
    "12- Clean text to make it readable as remove spaces and new lines.\n",
    "<<<Only provide the latest response of therapist content.>>>\n",
    "\"\"\""
   ],
   "metadata": {
    "collapsed": false
   }
  },
  {
   "cell_type": "code",
   "execution_count": 46,
   "outputs": [
    {
     "data": {
      "text/plain": "\"I'm sorry to hear that you're feeling this way. It sounds like you're going through a really tough time right now. I want you to know that you're not alone and that we can work through this together. Have you had thoughts of hurting yourself or others? It's important that I ask this so that we can ensure your safety.\""
     },
     "execution_count": 46,
     "metadata": {},
     "output_type": "execute_result"
    }
   ],
   "source": [
    "therapist_response = generate_therapist_response(client, prompt_message, TOKEN_ID, CHATGPT_ID)\n",
    "chat_history_list.append(therapist_response)\n",
    "\n",
    "if len(chat_history_list)>5:\n",
    "    chat_history_list.pop(0)\n",
    "\n",
    "therapist_response = therapist_response.replace(\"Therapist: \", \"\")\n",
    "\n",
    "therapist_response"
   ],
   "metadata": {
    "collapsed": false
   }
  },
  {
   "cell_type": "markdown",
   "source": [
    "----------"
   ],
   "metadata": {
    "collapsed": false
   }
  }
 ],
 "metadata": {
  "kernelspec": {
   "display_name": "Python 3",
   "language": "python",
   "name": "python3"
  },
  "language_info": {
   "codemirror_mode": {
    "name": "ipython",
    "version": 2
   },
   "file_extension": ".py",
   "mimetype": "text/x-python",
   "name": "python",
   "nbconvert_exporter": "python",
   "pygments_lexer": "ipython2",
   "version": "2.7.6"
  }
 },
 "nbformat": 4,
 "nbformat_minor": 0
}
